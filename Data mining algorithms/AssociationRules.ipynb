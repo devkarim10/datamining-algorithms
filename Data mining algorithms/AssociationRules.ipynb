{
 "cells": [
  {
   "cell_type": "code",
   "execution_count": 3,
   "metadata": {
    "collapsed": true
   },
   "outputs": [],
   "source": [
    "import pandas as pd\n",
    "import numpy as np\n",
    "from mlxtend.frequent_patterns import apriori, association_rules"
   ]
  },
  {
   "cell_type": "code",
   "execution_count": 15,
   "outputs": [
    {
     "data": {
      "text/plain": "                        products\n0             MILK,BREAD,BISCUIT\n1  BREAD,MILK,BISCUIT,CORNFLAKES\n2            BREAD,TEA,BOURNVITA\n3           JAM,MAGGI,BREAD,MILK\n4              MAGGI,TEA,BISCUIT",
      "text/html": "<div>\n<style scoped>\n    .dataframe tbody tr th:only-of-type {\n        vertical-align: middle;\n    }\n\n    .dataframe tbody tr th {\n        vertical-align: top;\n    }\n\n    .dataframe thead th {\n        text-align: right;\n    }\n</style>\n<table border=\"1\" class=\"dataframe\">\n  <thead>\n    <tr style=\"text-align: right;\">\n      <th></th>\n      <th>products</th>\n    </tr>\n  </thead>\n  <tbody>\n    <tr>\n      <th>0</th>\n      <td>MILK,BREAD,BISCUIT</td>\n    </tr>\n    <tr>\n      <th>1</th>\n      <td>BREAD,MILK,BISCUIT,CORNFLAKES</td>\n    </tr>\n    <tr>\n      <th>2</th>\n      <td>BREAD,TEA,BOURNVITA</td>\n    </tr>\n    <tr>\n      <th>3</th>\n      <td>JAM,MAGGI,BREAD,MILK</td>\n    </tr>\n    <tr>\n      <th>4</th>\n      <td>MAGGI,TEA,BISCUIT</td>\n    </tr>\n  </tbody>\n</table>\n</div>"
     },
     "execution_count": 15,
     "metadata": {},
     "output_type": "execute_result"
    }
   ],
   "source": [
    "df = pd.read_csv('Datasets/GroceryStoreDataSet.csv', names = ['products'], sep = ',')\n",
    "df.head()\n"
   ],
   "metadata": {
    "collapsed": false
   }
  },
  {
   "cell_type": "code",
   "execution_count": 16,
   "outputs": [
    {
     "data": {
      "text/plain": "[['MILK', 'BREAD', 'BISCUIT'],\n ['BREAD', 'MILK', 'BISCUIT', 'CORNFLAKES'],\n ['BREAD', 'TEA', 'BOURNVITA'],\n ['JAM', 'MAGGI', 'BREAD', 'MILK'],\n ['MAGGI', 'TEA', 'BISCUIT'],\n ['BREAD', 'TEA', 'BOURNVITA'],\n ['MAGGI', 'TEA', 'CORNFLAKES'],\n ['MAGGI', 'BREAD', 'TEA', 'BISCUIT'],\n ['JAM', 'MAGGI', 'BREAD', 'TEA'],\n ['BREAD', 'MILK'],\n ['COFFEE', 'COCK', 'BISCUIT', 'CORNFLAKES'],\n ['COFFEE', 'COCK', 'BISCUIT', 'CORNFLAKES'],\n ['COFFEE', 'SUGER', 'BOURNVITA'],\n ['BREAD', 'COFFEE', 'COCK'],\n ['BREAD', 'SUGER', 'BISCUIT'],\n ['COFFEE', 'SUGER', 'CORNFLAKES'],\n ['BREAD', 'SUGER', 'BOURNVITA'],\n ['BREAD', 'COFFEE', 'SUGER'],\n ['BREAD', 'COFFEE', 'SUGER'],\n ['TEA', 'MILK', 'COFFEE', 'CORNFLAKES']]"
     },
     "execution_count": 16,
     "metadata": {},
     "output_type": "execute_result"
    }
   ],
   "source": [
    "data = list(df[\"products\"].apply(lambda x:x.split(\",\") ))\n",
    "data"
   ],
   "metadata": {
    "collapsed": false
   }
  },
  {
   "cell_type": "code",
   "execution_count": 17,
   "outputs": [
    {
     "data": {
      "text/plain": "   BISCUIT BOURNVITA BREAD  COCK COFFEE CORNFLAKES   JAM MAGGI  MILK SUGER  \\\n0     True         0  True     0      0          0     0     0  True     0   \n1     True         0  True     0      0       True     0     0  True     0   \n2        0      True  True     0      0          0     0     0     0     0   \n3        0         0  True     0      0          0  True  True  True     0   \n4     True         0     0     0      0          0     0  True     0     0   \n5        0      True  True     0      0          0     0     0     0     0   \n6        0         0     0     0      0       True     0  True     0     0   \n7     True         0  True     0      0          0     0  True     0     0   \n8        0         0  True     0      0          0  True  True     0     0   \n9        0         0  True     0      0          0     0     0  True     0   \n10    True         0     0  True   True       True     0     0     0     0   \n11    True         0     0  True   True       True     0     0     0     0   \n12       0      True     0     0   True          0     0     0     0  True   \n13       0         0  True  True   True          0     0     0     0     0   \n14    True         0  True     0      0          0     0     0     0  True   \n15       0         0     0     0   True       True     0     0     0  True   \n16       0      True  True     0      0          0     0     0     0  True   \n17       0         0  True     0   True          0     0     0     0  True   \n18       0         0  True     0   True          0     0     0     0  True   \n19       0         0     0     0   True       True     0     0  True     0   \n\n     TEA  \n0      0  \n1      0  \n2   True  \n3      0  \n4   True  \n5   True  \n6   True  \n7   True  \n8   True  \n9      0  \n10     0  \n11     0  \n12     0  \n13     0  \n14     0  \n15     0  \n16     0  \n17     0  \n18     0  \n19  True  ",
      "text/html": "<div>\n<style scoped>\n    .dataframe tbody tr th:only-of-type {\n        vertical-align: middle;\n    }\n\n    .dataframe tbody tr th {\n        vertical-align: top;\n    }\n\n    .dataframe thead th {\n        text-align: right;\n    }\n</style>\n<table border=\"1\" class=\"dataframe\">\n  <thead>\n    <tr style=\"text-align: right;\">\n      <th></th>\n      <th>BISCUIT</th>\n      <th>BOURNVITA</th>\n      <th>BREAD</th>\n      <th>COCK</th>\n      <th>COFFEE</th>\n      <th>CORNFLAKES</th>\n      <th>JAM</th>\n      <th>MAGGI</th>\n      <th>MILK</th>\n      <th>SUGER</th>\n      <th>TEA</th>\n    </tr>\n  </thead>\n  <tbody>\n    <tr>\n      <th>0</th>\n      <td>True</td>\n      <td>0</td>\n      <td>True</td>\n      <td>0</td>\n      <td>0</td>\n      <td>0</td>\n      <td>0</td>\n      <td>0</td>\n      <td>True</td>\n      <td>0</td>\n      <td>0</td>\n    </tr>\n    <tr>\n      <th>1</th>\n      <td>True</td>\n      <td>0</td>\n      <td>True</td>\n      <td>0</td>\n      <td>0</td>\n      <td>True</td>\n      <td>0</td>\n      <td>0</td>\n      <td>True</td>\n      <td>0</td>\n      <td>0</td>\n    </tr>\n    <tr>\n      <th>2</th>\n      <td>0</td>\n      <td>True</td>\n      <td>True</td>\n      <td>0</td>\n      <td>0</td>\n      <td>0</td>\n      <td>0</td>\n      <td>0</td>\n      <td>0</td>\n      <td>0</td>\n      <td>True</td>\n    </tr>\n    <tr>\n      <th>3</th>\n      <td>0</td>\n      <td>0</td>\n      <td>True</td>\n      <td>0</td>\n      <td>0</td>\n      <td>0</td>\n      <td>True</td>\n      <td>True</td>\n      <td>True</td>\n      <td>0</td>\n      <td>0</td>\n    </tr>\n    <tr>\n      <th>4</th>\n      <td>True</td>\n      <td>0</td>\n      <td>0</td>\n      <td>0</td>\n      <td>0</td>\n      <td>0</td>\n      <td>0</td>\n      <td>True</td>\n      <td>0</td>\n      <td>0</td>\n      <td>True</td>\n    </tr>\n    <tr>\n      <th>5</th>\n      <td>0</td>\n      <td>True</td>\n      <td>True</td>\n      <td>0</td>\n      <td>0</td>\n      <td>0</td>\n      <td>0</td>\n      <td>0</td>\n      <td>0</td>\n      <td>0</td>\n      <td>True</td>\n    </tr>\n    <tr>\n      <th>6</th>\n      <td>0</td>\n      <td>0</td>\n      <td>0</td>\n      <td>0</td>\n      <td>0</td>\n      <td>True</td>\n      <td>0</td>\n      <td>True</td>\n      <td>0</td>\n      <td>0</td>\n      <td>True</td>\n    </tr>\n    <tr>\n      <th>7</th>\n      <td>True</td>\n      <td>0</td>\n      <td>True</td>\n      <td>0</td>\n      <td>0</td>\n      <td>0</td>\n      <td>0</td>\n      <td>True</td>\n      <td>0</td>\n      <td>0</td>\n      <td>True</td>\n    </tr>\n    <tr>\n      <th>8</th>\n      <td>0</td>\n      <td>0</td>\n      <td>True</td>\n      <td>0</td>\n      <td>0</td>\n      <td>0</td>\n      <td>True</td>\n      <td>True</td>\n      <td>0</td>\n      <td>0</td>\n      <td>True</td>\n    </tr>\n    <tr>\n      <th>9</th>\n      <td>0</td>\n      <td>0</td>\n      <td>True</td>\n      <td>0</td>\n      <td>0</td>\n      <td>0</td>\n      <td>0</td>\n      <td>0</td>\n      <td>True</td>\n      <td>0</td>\n      <td>0</td>\n    </tr>\n    <tr>\n      <th>10</th>\n      <td>True</td>\n      <td>0</td>\n      <td>0</td>\n      <td>True</td>\n      <td>True</td>\n      <td>True</td>\n      <td>0</td>\n      <td>0</td>\n      <td>0</td>\n      <td>0</td>\n      <td>0</td>\n    </tr>\n    <tr>\n      <th>11</th>\n      <td>True</td>\n      <td>0</td>\n      <td>0</td>\n      <td>True</td>\n      <td>True</td>\n      <td>True</td>\n      <td>0</td>\n      <td>0</td>\n      <td>0</td>\n      <td>0</td>\n      <td>0</td>\n    </tr>\n    <tr>\n      <th>12</th>\n      <td>0</td>\n      <td>True</td>\n      <td>0</td>\n      <td>0</td>\n      <td>True</td>\n      <td>0</td>\n      <td>0</td>\n      <td>0</td>\n      <td>0</td>\n      <td>True</td>\n      <td>0</td>\n    </tr>\n    <tr>\n      <th>13</th>\n      <td>0</td>\n      <td>0</td>\n      <td>True</td>\n      <td>True</td>\n      <td>True</td>\n      <td>0</td>\n      <td>0</td>\n      <td>0</td>\n      <td>0</td>\n      <td>0</td>\n      <td>0</td>\n    </tr>\n    <tr>\n      <th>14</th>\n      <td>True</td>\n      <td>0</td>\n      <td>True</td>\n      <td>0</td>\n      <td>0</td>\n      <td>0</td>\n      <td>0</td>\n      <td>0</td>\n      <td>0</td>\n      <td>True</td>\n      <td>0</td>\n    </tr>\n    <tr>\n      <th>15</th>\n      <td>0</td>\n      <td>0</td>\n      <td>0</td>\n      <td>0</td>\n      <td>True</td>\n      <td>True</td>\n      <td>0</td>\n      <td>0</td>\n      <td>0</td>\n      <td>True</td>\n      <td>0</td>\n    </tr>\n    <tr>\n      <th>16</th>\n      <td>0</td>\n      <td>True</td>\n      <td>True</td>\n      <td>0</td>\n      <td>0</td>\n      <td>0</td>\n      <td>0</td>\n      <td>0</td>\n      <td>0</td>\n      <td>True</td>\n      <td>0</td>\n    </tr>\n    <tr>\n      <th>17</th>\n      <td>0</td>\n      <td>0</td>\n      <td>True</td>\n      <td>0</td>\n      <td>True</td>\n      <td>0</td>\n      <td>0</td>\n      <td>0</td>\n      <td>0</td>\n      <td>True</td>\n      <td>0</td>\n    </tr>\n    <tr>\n      <th>18</th>\n      <td>0</td>\n      <td>0</td>\n      <td>True</td>\n      <td>0</td>\n      <td>True</td>\n      <td>0</td>\n      <td>0</td>\n      <td>0</td>\n      <td>0</td>\n      <td>True</td>\n      <td>0</td>\n    </tr>\n    <tr>\n      <th>19</th>\n      <td>0</td>\n      <td>0</td>\n      <td>0</td>\n      <td>0</td>\n      <td>True</td>\n      <td>True</td>\n      <td>0</td>\n      <td>0</td>\n      <td>True</td>\n      <td>0</td>\n      <td>True</td>\n    </tr>\n  </tbody>\n</table>\n</div>"
     },
     "execution_count": 17,
     "metadata": {},
     "output_type": "execute_result"
    }
   ],
   "source": [
    "#Let's transform the list, with one-hot encoding\n",
    "from mlxtend.preprocessing import TransactionEncoder\n",
    "a = TransactionEncoder()\n",
    "a_data = a.fit(data).transform(data)\n",
    "df = pd.DataFrame(a_data,columns=a.columns_)\n",
    "df = df.replace(False,0)\n",
    "df"
   ],
   "metadata": {
    "collapsed": false
   }
  },
  {
   "cell_type": "code",
   "execution_count": 18,
   "outputs": [
    {
     "name": "stdout",
     "output_type": "stream",
     "text": [
      "Processing 42 combinations | Sampling itemset size 3\n"
     ]
    },
    {
     "name": "stderr",
     "output_type": "stream",
     "text": [
      "F:\\DMprojects\\lib\\site-packages\\mlxtend\\frequent_patterns\\fpcommon.py:111: DeprecationWarning: DataFrames with non-bool types result in worse computationalperformance and their support might be discontinued in the future.Please use a DataFrame with bool type\n",
      "  warnings.warn(\n"
     ]
    },
    {
     "data": {
      "text/plain": "   support              itemsets\n0     0.35             (BISCUIT)\n1      0.2           (BOURNVITA)\n2     0.65               (BREAD)\n3      0.4              (COFFEE)\n4      0.3          (CORNFLAKES)\n5     0.25               (MAGGI)\n6     0.25                (MILK)\n7      0.3               (SUGER)\n8     0.35                 (TEA)\n9      0.2      (BISCUIT, BREAD)\n10     0.2         (MILK, BREAD)\n11     0.2        (SUGER, BREAD)\n12     0.2          (BREAD, TEA)\n13     0.2  (COFFEE, CORNFLAKES)\n14     0.2       (SUGER, COFFEE)\n15     0.2          (MAGGI, TEA)",
      "text/html": "<div>\n<style scoped>\n    .dataframe tbody tr th:only-of-type {\n        vertical-align: middle;\n    }\n\n    .dataframe tbody tr th {\n        vertical-align: top;\n    }\n\n    .dataframe thead th {\n        text-align: right;\n    }\n</style>\n<table border=\"1\" class=\"dataframe\">\n  <thead>\n    <tr style=\"text-align: right;\">\n      <th></th>\n      <th>support</th>\n      <th>itemsets</th>\n    </tr>\n  </thead>\n  <tbody>\n    <tr>\n      <th>0</th>\n      <td>0.35</td>\n      <td>(BISCUIT)</td>\n    </tr>\n    <tr>\n      <th>1</th>\n      <td>0.2</td>\n      <td>(BOURNVITA)</td>\n    </tr>\n    <tr>\n      <th>2</th>\n      <td>0.65</td>\n      <td>(BREAD)</td>\n    </tr>\n    <tr>\n      <th>3</th>\n      <td>0.4</td>\n      <td>(COFFEE)</td>\n    </tr>\n    <tr>\n      <th>4</th>\n      <td>0.3</td>\n      <td>(CORNFLAKES)</td>\n    </tr>\n    <tr>\n      <th>5</th>\n      <td>0.25</td>\n      <td>(MAGGI)</td>\n    </tr>\n    <tr>\n      <th>6</th>\n      <td>0.25</td>\n      <td>(MILK)</td>\n    </tr>\n    <tr>\n      <th>7</th>\n      <td>0.3</td>\n      <td>(SUGER)</td>\n    </tr>\n    <tr>\n      <th>8</th>\n      <td>0.35</td>\n      <td>(TEA)</td>\n    </tr>\n    <tr>\n      <th>9</th>\n      <td>0.2</td>\n      <td>(BISCUIT, BREAD)</td>\n    </tr>\n    <tr>\n      <th>10</th>\n      <td>0.2</td>\n      <td>(MILK, BREAD)</td>\n    </tr>\n    <tr>\n      <th>11</th>\n      <td>0.2</td>\n      <td>(SUGER, BREAD)</td>\n    </tr>\n    <tr>\n      <th>12</th>\n      <td>0.2</td>\n      <td>(BREAD, TEA)</td>\n    </tr>\n    <tr>\n      <th>13</th>\n      <td>0.2</td>\n      <td>(COFFEE, CORNFLAKES)</td>\n    </tr>\n    <tr>\n      <th>14</th>\n      <td>0.2</td>\n      <td>(SUGER, COFFEE)</td>\n    </tr>\n    <tr>\n      <th>15</th>\n      <td>0.2</td>\n      <td>(MAGGI, TEA)</td>\n    </tr>\n  </tbody>\n</table>\n</div>"
     },
     "execution_count": 18,
     "metadata": {},
     "output_type": "execute_result"
    }
   ],
   "source": [
    "#set a threshold value for the support value and calculate the support value.\n",
    "df = apriori(df, min_support = 0.2, use_colnames = True, verbose = 1)\n",
    "df"
   ],
   "metadata": {
    "collapsed": false
   }
  },
  {
   "cell_type": "code",
   "execution_count": 19,
   "outputs": [
    {
     "data": {
      "text/plain": "    antecedents consequents  antecedent support  consequent support  support  \\\n0        (MILK)     (BREAD)                0.25                0.65      0.2   \n1       (SUGER)     (BREAD)                0.30                0.65      0.2   \n2  (CORNFLAKES)    (COFFEE)                0.30                0.40      0.2   \n3       (SUGER)    (COFFEE)                0.30                0.40      0.2   \n4       (MAGGI)       (TEA)                0.25                0.35      0.2   \n\n   confidence      lift  leverage  conviction  \n0    0.800000  1.230769    0.0375        1.75  \n1    0.666667  1.025641    0.0050        1.05  \n2    0.666667  1.666667    0.0800        1.80  \n3    0.666667  1.666667    0.0800        1.80  \n4    0.800000  2.285714    0.1125        3.25  ",
      "text/html": "<div>\n<style scoped>\n    .dataframe tbody tr th:only-of-type {\n        vertical-align: middle;\n    }\n\n    .dataframe tbody tr th {\n        vertical-align: top;\n    }\n\n    .dataframe thead th {\n        text-align: right;\n    }\n</style>\n<table border=\"1\" class=\"dataframe\">\n  <thead>\n    <tr style=\"text-align: right;\">\n      <th></th>\n      <th>antecedents</th>\n      <th>consequents</th>\n      <th>antecedent support</th>\n      <th>consequent support</th>\n      <th>support</th>\n      <th>confidence</th>\n      <th>lift</th>\n      <th>leverage</th>\n      <th>conviction</th>\n    </tr>\n  </thead>\n  <tbody>\n    <tr>\n      <th>0</th>\n      <td>(MILK)</td>\n      <td>(BREAD)</td>\n      <td>0.25</td>\n      <td>0.65</td>\n      <td>0.2</td>\n      <td>0.800000</td>\n      <td>1.230769</td>\n      <td>0.0375</td>\n      <td>1.75</td>\n    </tr>\n    <tr>\n      <th>1</th>\n      <td>(SUGER)</td>\n      <td>(BREAD)</td>\n      <td>0.30</td>\n      <td>0.65</td>\n      <td>0.2</td>\n      <td>0.666667</td>\n      <td>1.025641</td>\n      <td>0.0050</td>\n      <td>1.05</td>\n    </tr>\n    <tr>\n      <th>2</th>\n      <td>(CORNFLAKES)</td>\n      <td>(COFFEE)</td>\n      <td>0.30</td>\n      <td>0.40</td>\n      <td>0.2</td>\n      <td>0.666667</td>\n      <td>1.666667</td>\n      <td>0.0800</td>\n      <td>1.80</td>\n    </tr>\n    <tr>\n      <th>3</th>\n      <td>(SUGER)</td>\n      <td>(COFFEE)</td>\n      <td>0.30</td>\n      <td>0.40</td>\n      <td>0.2</td>\n      <td>0.666667</td>\n      <td>1.666667</td>\n      <td>0.0800</td>\n      <td>1.80</td>\n    </tr>\n    <tr>\n      <th>4</th>\n      <td>(MAGGI)</td>\n      <td>(TEA)</td>\n      <td>0.25</td>\n      <td>0.35</td>\n      <td>0.2</td>\n      <td>0.800000</td>\n      <td>2.285714</td>\n      <td>0.1125</td>\n      <td>3.25</td>\n    </tr>\n  </tbody>\n</table>\n</div>"
     },
     "execution_count": 19,
     "metadata": {},
     "output_type": "execute_result"
    }
   ],
   "source": [
    "#Let's view our interpretation values using the Associan rule function.\n",
    "df_ar = association_rules(df, metric = \"confidence\", min_threshold = 0.6)\n",
    "df_ar"
   ],
   "metadata": {
    "collapsed": false
   }
  },
  {
   "cell_type": "code",
   "execution_count": null,
   "outputs": [],
   "source": [],
   "metadata": {
    "collapsed": false
   }
  }
 ],
 "metadata": {
  "kernelspec": {
   "display_name": "Python 3",
   "language": "python",
   "name": "python3"
  },
  "language_info": {
   "codemirror_mode": {
    "name": "ipython",
    "version": 2
   },
   "file_extension": ".py",
   "mimetype": "text/x-python",
   "name": "python",
   "nbconvert_exporter": "python",
   "pygments_lexer": "ipython2",
   "version": "2.7.6"
  }
 },
 "nbformat": 4,
 "nbformat_minor": 0
}
